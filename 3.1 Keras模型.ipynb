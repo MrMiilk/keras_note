{
 "cells": [
  {
   "cell_type": "markdown",
   "metadata": {},
   "source": [
    "## 模型API\n",
    "- 查阅时应该找文档，这个只是为了减慢阅读速度的笔记"
   ]
  },
  {
   "cell_type": "markdown",
   "metadata": {},
   "source": [
    "### Sequential模型和函数式模型的通用API"
   ]
  },
  {
   "cell_type": "code",
   "execution_count": null,
   "metadata": {
    "collapsed": true
   },
   "outputs": [],
   "source": [
    "model.summary()#打印模型的概况\n",
    "model.get_config()#返回包含模型配置信息的Python字典。"
   ]
  },
  {
   "cell_type": "code",
   "execution_count": null,
   "metadata": {
    "collapsed": true
   },
   "outputs": [],
   "source": [
    "#模型也可以从它的config信息中重构回去\n",
    "config = model.get_config()\n",
    "model = Model.from_config(config)\n",
    "#sequential独有：\n",
    "model = Sequential.from_config(config)"
   ]
  },
  {
   "cell_type": "code",
   "execution_count": null,
   "metadata": {
    "collapsed": true
   },
   "outputs": [],
   "source": [
    "model.get_layer() #根据层名或下标获得层对象\n",
    "model.det_weights()  #模型权重列表，类型为np.ndarray\n",
    "model.set_weights()  #从np.ndarray中载入权重--形状匹配\n",
    "model.to_json()      #返回代表模型的JSON字符串，仅包含网络结构，不包含权值。\n",
    "model.to_yaml()       #和json类似"
   ]
  },
  {
   "cell_type": "code",
   "execution_count": null,
   "metadata": {
    "collapsed": true
   },
   "outputs": [],
   "source": [
    "#可以从JSON字符串中重构原模型：\n",
    "from models import model_from_json\n",
    "\n",
    "json_string = model.to_json()\n",
    "model = model_from_json(json_string)\n",
    "\n",
    "#yaml也是一样的\n",
    "from models import model_from_yaml\n",
    "\n",
    "yaml_string = model.to_yaml()\n",
    "model = model_from_yaml(yaml_string)"
   ]
  },
  {
   "cell_type": "code",
   "execution_count": null,
   "metadata": {
    "collapsed": true
   },
   "outputs": [],
   "source": [
    "model.save_weights(filepath) #保存权重文件，类型是HDF5(.h5)"
   ]
  },
  {
   "cell_type": "code",
   "execution_count": null,
   "metadata": {
    "collapsed": true
   },
   "outputs": [],
   "source": [
    "\"\"\"\n",
    "从HDF5文件中加载权重到当前模型中, 默认情况下模型的结构将保持不变。\n",
    "如果想将权重载入不同的模型（有些层相同）中，则设置by_name=True，\n",
    "只有名字匹配的层才会载入权重\n",
    "\"\"\"\n",
    "model.load_weights(filepath, by_name=False)"
   ]
  },
  {
   "cell_type": "markdown",
   "metadata": {},
   "source": [
    "### Sequential模型API"
   ]
  },
  {
   "cell_type": "code",
   "execution_count": null,
   "metadata": {
    "collapsed": true
   },
   "outputs": [],
   "source": [
    "model.layers  #获得模型中层的list"
   ]
  },
  {
   "cell_type": "code",
   "execution_count": null,
   "metadata": {
    "collapsed": true
   },
   "outputs": [],
   "source": []
  },
  {
   "cell_type": "markdown",
   "metadata": {},
   "source": [
    "### 函数式模型\n",
    "- [Link](http://keras-cn.readthedocs.io/en/latest/models/model/)"
   ]
  },
  {
   "cell_type": "code",
   "execution_count": 1,
   "metadata": {},
   "outputs": [
    {
     "name": "stderr",
     "output_type": "stream",
     "text": [
      "Using TensorFlow backend.\n"
     ]
    }
   ],
   "source": [
    "from keras.models import Model\n",
    "from keras.layers import Input, Dense\n",
    "\n",
    "a = Input(shape=(32,))\n",
    "b = Dense(32)(a)\n",
    "model = Model(inputs=a, outputs=b)"
   ]
  },
  {
   "cell_type": "markdown",
   "metadata": {},
   "source": [
    "#### 属性"
   ]
  },
  {
   "cell_type": "code",
   "execution_count": 4,
   "metadata": {},
   "outputs": [
    {
     "name": "stdout",
     "output_type": "stream",
     "text": [
      "[<keras.engine.topology.InputLayer object at 0x000001C94C9CA710>, <keras.layers.core.Dense object at 0x000001C94C9CA4E0>]\n",
      "[<tf.Tensor 'input_1:0' shape=(?, 32) dtype=float32>]\n",
      "[<tf.Tensor 'dense_1/BiasAdd:0' shape=(?, 32) dtype=float32>]\n"
     ]
    }
   ],
   "source": [
    "print(model.layers)\n",
    "print(model.inputs)\n",
    "print(model.outputs)"
   ]
  },
  {
   "cell_type": "markdown",
   "metadata": {},
   "source": [
    "#### 方法"
   ]
  },
  {
   "cell_type": "markdown",
   "metadata": {},
   "source": [
    "##### [compile]()：编译模型以提供训练，只是predict的话，不需要\n",
    "- 总体：\n",
    "```python\n",
    "compile(self, optimizer, loss, metrics=None, loss_weights=None, sample_weight_mode=None, weighted_metrics=None, target_tensors=None)\n",
    "```\n",
    "- 常见参数：\n",
    "    - optimozer\n",
    "    - loss\n",
    "    - metrics 评估指标列表\n",
    "        - 如果要在多输出模型中为**不同的输出指定不同的指标**，可像该参数传递一个字典，例如metrics={'ouput_a': 'accuracy'}"
   ]
  },
  {
   "cell_type": "markdown",
   "metadata": {},
   "source": [
    "##### [fit]()：训练模型\n",
    "- 总体：\n",
    "```python\n",
    "fit(self, x=None, y=None, batch_size=None, epochs=1, verbose=1, callbacks=None, validation_split=0.0, validation_data=None, shuffle=True, class_weight=None, sample_weight=None, initial_epoch=0, steps_per_epoch=None, validation_steps=None)\n",
    "```\n",
    "- 常见参数：\n",
    "    - X\n",
    "    - y\n",
    "    - batch_size\n",
    "    - epochs\n",
    "    - verbose:日志\n",
    "        - 0：不输出\n",
    "        - 1：输出进度记录条\n",
    "        - 2：输出每个epoch的记录--其他函数大多只能取0/1\n",
    "    - validation_split:0~1之间的浮点数，用来指定训练集的一定比例数据作为验证集。验证集将不参与训练，并在每个epoch结束后测试的模型的指标，如损失函数、精确度等。\n",
    "        - 注意，validation_split的划分在shuffle之后，因此如果你的数据本身是有序的，需要先手工打乱再指定validation_split，否则可能会出现验证集样本不均匀。\n",
    "    - validation_data:(X, y),会覆盖validation_split\n",
    "    - shuffle:**每个epoch**前随机打乱输入样本的顺序。"
   ]
  },
  {
   "cell_type": "markdown",
   "metadata": {
    "collapsed": true
   },
   "source": [
    "##### [evalute]():按batch计算给定数据的模型误差\n",
    "- 总体：\n",
    "```python\n",
    "evaluate(self, x, y, batch_size=32, verbose=1, sample_weight=None)\n",
    "```\n",
    "- 参数：\n",
    "    - X\n",
    "    - Y\n",
    "    - batch_size:\n",
    "    - ver_bose:只能取0/1"
   ]
  },
  {
   "cell_type": "markdown",
   "metadata": {},
   "source": [
    "##### [predict]():\n",
    "- 返回的类型是ndarray\n",
    "```python\n",
    "predict(self, x, batch_size=32, verbose=0)\n",
    "```"
   ]
  },
  {
   "cell_type": "markdown",
   "metadata": {},
   "source": [
    "##### [xx_on_batch]()\n",
    "- train/test/predict"
   ]
  },
  {
   "cell_type": "markdown",
   "metadata": {},
   "source": [
    "## 损失函数"
   ]
  },
  {
   "cell_type": "markdown",
   "metadata": {},
   "source": [
    "- 可以直接使用自己定义的函数名，或者是Tensorflow的符号函数\n",
    "- 常用的目标函数：\n",
    "```python\n",
    "from keras import losses\n",
    "loss = losses.xxx\n",
    "```\n",
    "    - mean_squared_error\n",
    "    - mean_absolute_error\n",
    "    - squared_hinge\n",
    "    - categorical_crossentropy\n",
    "    ...\n",
    "- **注意：**在使用categorical_crossentropy作为损失函数时，对应类别应该为多类别，label应该使用one_hot编码，可以使用to_categorical直接转换"
   ]
  },
  {
   "cell_type": "markdown",
   "metadata": {},
   "source": [
    "## Optimzer"
   ]
  },
  {
   "cell_type": "code",
   "execution_count": null,
   "metadata": {
    "collapsed": true
   },
   "outputs": [],
   "source": [
    "from keraas import optimzers\n",
    "\n",
    "sgd = optimzers.SGD(lr=0.001, decay=1e-6, momentum=0.9, nesterov=True)\n",
    "model.compile(loss='mean_squared_error', optimzer=sgd)"
   ]
  },
  {
   "cell_type": "markdown",
   "metadata": {},
   "source": [
    "##### 梯度剪裁\n",
    "```python\n",
    "from keras import optimizers\n",
    "\n",
    "#All parameters gradients will be clipped to\n",
    "#a maximun of 1.\n",
    "sgd = optimzers.SGD(lr=0.001, clipnorm=1.)\n",
    "\n",
    "#...\n",
    "# a maximum value of 0.5 and\n",
    "# a minimum value of -0.5.\n",
    "sgd = optimzer.SGD(lr=0.1, clipvalue=0.5)\n",
    "```"
   ]
  },
  {
   "cell_type": "markdown",
   "metadata": {},
   "source": [
    "### 常用optimzer"
   ]
  },
  {
   "cell_type": "markdown",
   "metadata": {},
   "source": [
    "#### TF优化器的包装器\n",
    "```python\n",
    "keras.optimizers.TFOptimizer(optimizer)\n",
    "```"
   ]
  },
  {
   "cell_type": "markdown",
   "metadata": {},
   "source": [
    "#### SGD\n",
    "```python\n",
    "keras.optimizers.SGD(lr=0.01, momentum=0.0, decay=0.0, nesterov=False)\n",
    "```\n",
    "- 参数\n",
    "    - lr：\n",
    "    - momentum\n",
    "    - decay\n",
    "    - nesterov:True or False"
   ]
  },
  {
   "cell_type": "markdown",
   "metadata": {},
   "source": [
    "#### RMSprop\n",
    "```python\n",
    "keras.optimizers.RMSprop(lr=0.001, rho=0.9, epsilon=1e-06)\n",
    "```\n",
    "- 参数\n",
    "    - lr\n",
    "    - rho\n",
    "    - epsilon：防止除0的参数"
   ]
  },
  {
   "cell_type": "markdown",
   "metadata": {},
   "source": [
    "#### Adagrad\n",
    "```python\n",
    "keras.optimizers.Adagrad(lr=0.01, epsilon=1e-06)\n",
    "```"
   ]
  },
  {
   "cell_type": "markdown",
   "metadata": {},
   "source": [
    "#### 目前没用过的 Adadelte\n",
    "```python\n",
    "keras.optimizers.Adadelta(lr=1.0, rho=0.95, epsilon=1e-06)\n",
    "```"
   ]
  },
  {
   "cell_type": "markdown",
   "metadata": {},
   "source": [
    "#### Adam\n",
    "```python\n",
    "keras.optimizers.Adam(lr=0.001, beta_1=0.9, beta_2=0.999, epsilon=1e-08)\n",
    "```"
   ]
  },
  {
   "cell_type": "markdown",
   "metadata": {},
   "source": [
    "##### Adamax\n",
    "- Adam的变体--在Adam论文里\n",
    "```python\n",
    "keras.optimizers.Adamax(lr=0.002, beta_1=0.9, beta_2=0.999, epsilon=1e-08)\n",
    "```"
   ]
  },
  {
   "cell_type": "markdown",
   "metadata": {},
   "source": [
    "#### Nadam\n",
    "- Nesterov Adam optimizer: Adam本质上像是带有动量项的RMSprop，Nadam就是带有Nesterov 动量的Adam RMSprop\n",
    "```python\n",
    "keras.optimizers.Nadam(lr=0.002, beta_1=0.9, beta_2=0.999, epsilon=1e-08, schedule_decay=0.004)\n",
    "```"
   ]
  },
  {
   "cell_type": "markdown",
   "metadata": {},
   "source": [
    "## 激活函数\n",
    "- 可以单独设置激活层或者在构造层的时候加入，或者用TF的函数\n",
    "```python\n",
    "#Activation层\n",
    "keras.layers.core.Activation(activation)\n",
    "```\n",
    "- 预定义的激活函数(知道的)\n",
    "    - softplus\n",
    "    - relu\n",
    "    - softmax\n",
    "    - tanh\n",
    "- 高级激活函数\n",
    "    - LeaktReLU:避免ReLU可能出现的失活现象\n",
    "```python\n",
    "keras.layers.advanced_activations.LeakyReLU(alpha=0.3)\n",
    "```\n",
    "    - PReLU:参数化的ReLU,alpha可学习\n",
    "```python\n",
    "keras.layers.advanced_activations.PReLU(alpha_initializer='zeros', alpha_regularizer=None, alpha_constraint=None, shared_axes=None)\n",
    "```\n",
    "        - 参数：\n",
    "            - alpha_constraint:**约束项？？**\n",
    "            - shared_axes:共享参数的轴，比如输入tensor为`(batch_size,height,width,channels)`,如果希望每个filter都用相同的参数，只需要设置 `hared_axes=[1, 2]`\n",
    "    - ELU层：指数线性单元\n",
    "    ```python\n",
    "    keras.layers.advanced_activations.ELU(alpha=1.0)\n",
    "    ```\n",
    "        - 表达式\n",
    "```python\n",
    "f(x) = alpha * (exp(x) - 1.) for x < 0, f(x) = x for x>=0\n",
    "```\n",
    "    - ThresholdedReLU层\n",
    "    ```python\n",
    "    keras.layers.advanced_activations.ThresholdedReLU(theta=1.0)\n",
    "    ```\n",
    "        - 表达式\n",
    "        ```ptrhon\n",
    "        f(x) = x for x > theta,f(x) = 0 otherwise\n",
    "        ```"
   ]
  },
  {
   "cell_type": "code",
   "execution_count": null,
   "metadata": {},
   "outputs": [],
   "source": [
    "from keras import backend as K\n",
    "#使用TF自带的函数作为激活函数\n",
    "def tanh(x):\n",
    "    return K.tanh(x)\n",
    "\n",
    "X = Dense(64, activation=tanh)(X)"
   ]
  },
  {
   "cell_type": "markdown",
   "metadata": {
    "collapsed": true
   },
   "source": [
    "## 性能评估"
   ]
  },
  {
   "cell_type": "markdown",
   "metadata": {},
   "source": [
    "##### 在上面有提过，模型编译时，通过metrics进行设置\n"
   ]
  },
  {
   "cell_type": "code",
   "execution_count": null,
   "metadata": {
    "collapsed": true
   },
   "outputs": [],
   "source": [
    "from keras import metrics\n",
    "\n",
    "\n",
    "model.compile(loss='mean_squared_error',\n",
    "              optimizer='sgd',\n",
    "              metrics=['mae', 'acc'])\n",
    "\n",
    "model.compile(loss='mean_squared_error',\n",
    "              optimizer='sgd',\n",
    "              metrics=[metrics.mae, metrics.categorical_accuracy])\n"
   ]
  },
  {
   "cell_type": "markdown",
   "metadata": {},
   "source": [
    "##### 自定义函数\n",
    "- 输入\n",
    "    > y_true  \n",
    "     y_pred\n",
    "- 返回\n",
    "    > 返回单个张量,或从`metric_name`映射到`metric_value`的字典"
   ]
  },
  {
   "cell_type": "code",
   "execution_count": null,
   "metadata": {
    "collapsed": true
   },
   "outputs": [],
   "source": [
    "import keras.backend as K\n",
    "\n",
    "def mean_err(y_true, y_pred):\n",
    "    return K.mean(y_pred -  y_true)\n",
    "\n",
    "model.compile(optimizer='rmsprop',\n",
    "              loss='binary_crossentropy',\n",
    "              metrics=['mean_err', mean_pred])"
   ]
  },
  {
   "cell_type": "markdown",
   "metadata": {},
   "source": [
    "## 初始化方法\n",
    "- 正常对应设置中的`kernel_initializer`或者`bias_initializer`\n",
    "- 使用对应初始化方法的字符串或者函数名\n",
    "- 自定义估计目前没啥用"
   ]
  },
  {
   "cell_type": "markdown",
   "metadata": {},
   "source": [
    "### Initializer类\n",
    "- Initializer是所有初始化方法的父类，不能直接使用，如果想要定义自己的初始化方法，需要继承此类\n",
    "- 常见方法：\n",
    "```python\n",
    "keras.initializers.Ones()\n",
    "keras.initializers.Zeros()\n",
    "keras.initializers.Constant(value=0)\n",
    "#正态分布\n",
    "keras.initializers.RandomNormal(mean=0.0, stddev=0.05, seed=None))\n",
    "#均匀分布\n",
    "keras.initializers.RandomUniform(minval=-0.05, maxval=0.05, seed=None)\n",
    "#截尾正态分布:位于均值两边两个stddev外的数据会直接重新生成\n",
    "keras.initializers.TruncatedNormal(mean=.0, stddev=0.005, seed=None)\n",
    "#xavier初始化\n",
    "'''\n",
    "参数从[-limit, limit]范围内的均匀分布产生，limit=sqrt(6/fan_in+fan_out),fan_in,fan_out分别是输入，输出的权重张量的单元数\n",
    "'''\n",
    "keras.initializers.glorot_uniform(seed=None)\n",
    "#...还有很多初始化方法\n",
    "```"
   ]
  },
  {
   "cell_type": "code",
   "execution_count": null,
   "metadata": {
    "collapsed": true
   },
   "outputs": [],
   "source": []
  }
 ],
 "metadata": {
  "kernelspec": {
   "display_name": "Python 3",
   "language": "python",
   "name": "python3"
  },
  "language_info": {
   "codemirror_mode": {
    "name": "ipython",
    "version": 3
   },
   "file_extension": ".py",
   "mimetype": "text/x-python",
   "name": "python",
   "nbconvert_exporter": "python",
   "pygments_lexer": "ipython3",
   "version": "3.6.3"
  }
 },
 "nbformat": 4,
 "nbformat_minor": 2
}
