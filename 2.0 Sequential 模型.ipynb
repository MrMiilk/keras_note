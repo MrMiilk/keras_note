{
 "cells": [
  {
   "cell_type": "code",
   "execution_count": 4,
   "metadata": {},
   "outputs": [],
   "source": [
    "import keras\n",
    "from keras.models import Sequential\n",
    "from keras.layers import Dense, Activation"
   ]
  },
  {
   "cell_type": "code",
   "execution_count": null,
   "metadata": {
    "collapsed": true
   },
   "outputs": [],
   "source": [
    "model = Sequential([\n",
    "    Dense(32, units=784),\n",
    "    Activation('relu'),\n",
    "    Dense(10),\n",
    "    Activation('softmax')\n",
    "])\n",
    "#或者通过add添加"
   ]
  },
  {
   "cell_type": "markdown",
   "metadata": {},
   "source": [
    "#### 网络第一层需要输入数据的shape，其他层的会自动由前一层推导\n",
    "#### 方法\n",
    "- 传递一个input_shape的关键字参数给第一层，input_shape是一个tuple类型的数据，其中也可以填入None，如果填入None则表示此位置可能是任何正整数。**数据的batch大小不应包含在其中**。\n",
    "\n",
    "- 有些2D层，如Dense，支持通过指定其输入维度input_dim来隐含的指定输入数据shape,是一个Int类型的数据。一些3D的时域层支持通过参数input_dim和input_length来指定输入shape。\n",
    "\n",
    "- 如果你需要为输入指定一个固定大小的batch_size（常用于stateful RNN网络），可以传递batch_size参数到一个层中，例如你想指定输入张量的batch大小是32，数据shape是（6，8），则你需要传递batch_size=32和input_shape=(6,8)"
   ]
  },
  {
   "cell_type": "code",
   "execution_count": null,
   "metadata": {
    "collapsed": true
   },
   "outputs": [],
   "source": [
    "model = Sequential()\n",
    "model.add(Dense(32, input_shape=(784,)))"
   ]
  },
  {
   "cell_type": "markdown",
   "metadata": {},
   "source": [
    "#### 编译，compile\n",
    "- optimzer：参考optimzer部分\n",
    "- loss：\n",
    "- 指标列表 metrics："
   ]
  },
  {
   "cell_type": "code",
   "execution_count": null,
   "metadata": {
    "collapsed": true
   },
   "outputs": [],
   "source": [
    "#自定义指标\n",
    "import keras.backend as K\n",
    "\n",
    "def mean_pred(y_true, y_pred):\n",
    "    return K.mean(y_pred)\n",
    "\n",
    "model.compile(optimizer='rmsprop',\n",
    "              loss='binary_crossentropy',\n",
    "              metrics=['accuracy', mean_pred])"
   ]
  },
  {
   "cell_type": "markdown",
   "metadata": {},
   "source": [
    "#### 训练"
   ]
  },
  {
   "cell_type": "code",
   "execution_count": 5,
   "metadata": {},
   "outputs": [
    {
     "name": "stdout",
     "output_type": "stream",
     "text": [
      "Epoch 1/10\n",
      "1000/1000 [==============================] - 0s 424us/step - loss: 2.3966 - acc: 0.0990\n",
      "Epoch 2/10\n",
      "1000/1000 [==============================] - 0s 84us/step - loss: 2.3262 - acc: 0.1130\n",
      "Epoch 3/10\n",
      "1000/1000 [==============================] - 0s 77us/step - loss: 2.2806 - acc: 0.1250\n",
      "Epoch 4/10\n",
      "1000/1000 [==============================] - 0s 72us/step - loss: 2.2414 - acc: 0.1370\n",
      "Epoch 5/10\n",
      "1000/1000 [==============================] - 0s 73us/step - loss: 2.2062 - acc: 0.1570\n",
      "Epoch 6/10\n",
      "1000/1000 [==============================] - 0s 74us/step - loss: 2.1731 - acc: 0.1620\n",
      "Epoch 7/10\n",
      "1000/1000 [==============================] - 0s 81us/step - loss: 2.1409 - acc: 0.1810\n",
      "Epoch 8/10\n",
      "1000/1000 [==============================] - 0s 75us/step - loss: 2.1083 - acc: 0.1840\n",
      "Epoch 9/10\n",
      "1000/1000 [==============================] - 0s 79us/step - loss: 2.0767 - acc: 0.2090\n",
      "Epoch 10/10\n",
      "1000/1000 [==============================] - 0s 85us/step - loss: 2.0433 - acc: 0.2300\n"
     ]
    },
    {
     "data": {
      "text/plain": [
       "<keras.callbacks.History at 0x20924a845f8>"
      ]
     },
     "execution_count": 5,
     "metadata": {},
     "output_type": "execute_result"
    }
   ],
   "source": [
    "model = Sequential()\n",
    "model.add(Dense(32, activation='relu', input_dim=100))#输入的dim，输出32\n",
    "model.add(Dense(10, activation='sigmoid'))#输出1\n",
    "\n",
    "model.compile(optimizer='rmsprop',\n",
    "              loss='categorical_crossentropy',\n",
    "              metrics=['accuracy'])\n",
    "\n",
    "#训练数据\n",
    "import numpy as np\n",
    "X = np.random.randn(1000, 100)\n",
    "y = np.random.randint(10, size=(1000, 1))\n",
    "y = keras.utils.to_categorical(y, num_classes=10)\n",
    "\n",
    "model.fit(X, y, epochs=10, batch_size=32)\n",
    "\n"
   ]
  },
  {
   "cell_type": "markdown",
   "metadata": {},
   "source": [
    "## 一些模型的例子\n",
    "#### 文档中包括了：\n",
    "- CIFAR10 小图片分类：使用CNN和实时数据提升\n",
    "- IMDB 电影评论观点分类：使用LSTM处理成序列的词语\n",
    "- Reuters（路透社）新闻主题分类：使用多层感知器（MLP）\n",
    "- MNIST手写数字识别：使用多层感知器和CNN\n",
    "- 字符级文本生成：使用LSTM ...\n",
    "#### 等多个模型，在相应的examples中会有更多模型信息"
   ]
  },
  {
   "cell_type": "code",
   "execution_count": 11,
   "metadata": {},
   "outputs": [
    {
     "name": "stdout",
     "output_type": "stream",
     "text": [
      "Epoch 1/10\n",
      "100/100 [==============================] - 8s 75ms/step - loss: 13.7765\n",
      "Epoch 2/10\n",
      "100/100 [==============================] - 6s 65ms/step - loss: 13.8616\n",
      "Epoch 3/10\n",
      "100/100 [==============================] - 6s 62ms/step - loss: 13.8616\n",
      "Epoch 4/10\n",
      "100/100 [==============================] - 6s 63ms/step - loss: 13.8616\n",
      "Epoch 5/10\n",
      "100/100 [==============================] - 6s 61ms/step - loss: 13.8616\n",
      "Epoch 6/10\n",
      "100/100 [==============================] - 6s 61ms/step - loss: 13.8616\n",
      "Epoch 7/10\n",
      "100/100 [==============================] - 6s 61ms/step - loss: 13.8616\n",
      "Epoch 8/10\n",
      "100/100 [==============================] - 7s 67ms/step - loss: 13.8616\n",
      "Epoch 9/10\n",
      "100/100 [==============================] - 6s 60ms/step - loss: 13.8616\n",
      "Epoch 10/10\n",
      "100/100 [==============================] - 6s 60ms/step - loss: 13.8616\n",
      "20/20 [==============================] - 1s 27ms/step\n"
     ]
    }
   ],
   "source": [
    "#卷积模型\n",
    "import numpy as np\n",
    "import keras\n",
    "from keras.models import Sequential\n",
    "from keras.layers import Dense, Dropout, Flatten\n",
    "from keras.layers import Conv2D, MaxPooling2D\n",
    "from keras.optimizers import SGD\n",
    "from keras.utils import to_categorical\n",
    "\n",
    "\n",
    "X_train = 128 + 64 * np.random.randn(100, 100, 100, 3)\n",
    "y_train = to_categorical(np.random.randint(10, size=(100, 1)))\n",
    "X_test = 128 + 64 * np.random.randn(20, 100, 100, 3)\n",
    "y_test = to_categorical(np.random.randint(10, size=(20, 1)))\n",
    "\n",
    "\n",
    "model = Sequential()\n",
    "model.add(Conv2D(32, (3, 3), activation='relu', input_shape=(100, 100, 3)))\n",
    "model.add(Conv2D(32, (3, 3), activation='relu'))\n",
    "model.add(MaxPooling2D(pool_size=(2, 2)))\n",
    "model.add(Dropout(0.25))\n",
    "\n",
    "model.add(Conv2D(64, (3, 3), activation='relu'))\n",
    "model.add(Conv2D(64, (3, 3), activation='relu'))\n",
    "model.add(MaxPooling2D(pool_size=(2, 2)))\n",
    "model.add(Dropout(0.25))\n",
    "\n",
    "model.add(Flatten())\n",
    "model.add(Dense(256, activation='relu'))\n",
    "model.add(Dropout(0.5))\n",
    "model.add(Dense(10, activation='softmax'))\n",
    "\n",
    "sgd = SGD(lr=0.01, decay=1e-6, momentum=0.9, nesterov=True)\n",
    "model.compile(loss='categorical_crossentropy', optimizer=sgd)\n",
    "\n",
    "model.fit(X_train, y_train, epochs=10, batch_size=32)\n",
    "score = model.evaluate(X_test, y_test, batch_size=32)"
   ]
  },
  {
   "cell_type": "code",
   "execution_count": null,
   "metadata": {
    "collapsed": true
   },
   "outputs": [],
   "source": []
  }
 ],
 "metadata": {
  "kernelspec": {
   "display_name": "Python 3",
   "language": "python",
   "name": "python3"
  },
  "language_info": {
   "codemirror_mode": {
    "name": "ipython",
    "version": 3
   },
   "file_extension": ".py",
   "mimetype": "text/x-python",
   "name": "python",
   "nbconvert_exporter": "python",
   "pygments_lexer": "ipython3",
   "version": "3.6.3"
  }
 },
 "nbformat": 4,
 "nbformat_minor": 2
}
