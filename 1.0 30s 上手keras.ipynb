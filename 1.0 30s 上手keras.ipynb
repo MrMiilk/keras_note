{
 "cells": [
  {
   "cell_type": "markdown",
   "metadata": {},
   "source": [
    "## Sequential 模型\n",
    "- 由网络层按顺序构成的栈"
   ]
  },
  {
   "cell_type": "code",
   "execution_count": null,
   "metadata": {
    "collapsed": true
   },
   "outputs": [],
   "source": [
    "from keras.models import Sequential\n",
    "from keras.layers import Dense, Activation\n",
    "\n",
    "#模型建立\n",
    "model = Sequential()\n",
    "model.add(Dense(units=64, input_dim=100))\n",
    "model.add(Activation('relu'))\n",
    "model.add(Dense(units=10))\n",
    "model.add(Activation('softmax'))\n",
    "\n",
    "#编译模型\n",
    "model.compile(loss='categorical_crossentropy', \n",
    "              optimzer='sgd', \n",
    "              metrics=['accuracy'])\n",
    "# #定制优化器\n",
    "# from keras.optimizers import SGD\n",
    "# model.compile(loss='categorical_crossentropy',\n",
    "#              optimzer=SGD(lr=0.01, momentum=0.9, nesterov=True))\n",
    "\n",
    "#迭代\n",
    "model.fit(x_train, y_train, epochs=5, batch_size=32)\n",
    "# #自己将batch送入网络\n",
    "# model.train_on_batch(x_batch, y_batch)\n",
    "\n",
    "#模型评估\n",
    "loss_and_metrics = model.evaluate(x_test, y_test, batch_size=128)\n",
    "\n",
    "#预测\n",
    "classes = model=predict(x_test, batch_size=128)"
   ]
  }
 ],
 "metadata": {
  "kernelspec": {
   "display_name": "Python 3",
   "language": "python",
   "name": "python3"
  },
  "language_info": {
   "codemirror_mode": {
    "name": "ipython",
    "version": 3
   },
   "file_extension": ".py",
   "mimetype": "text/x-python",
   "name": "python",
   "nbconvert_exporter": "python",
   "pygments_lexer": "ipython3",
   "version": "3.6.3"
  }
 },
 "nbformat": 4,
 "nbformat_minor": 2
}
